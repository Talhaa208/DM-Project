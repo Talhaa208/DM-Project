{
 "cells": [
  {
   "cell_type": "code",
   "execution_count": 6,
   "metadata": {},
   "outputs": [
    {
     "name": "stdout",
     "output_type": "stream",
     "text": [
      "Enter number of disks: 4\n",
      "===============|This is your final result|================\n",
      "Move disk from A to B\n",
      "Move disk from A to C\n",
      "Move disk from B to C\n",
      "Move disk from A to B\n",
      "Move disk from C to A\n",
      "Move disk from C to B\n",
      "Move disk from A to B\n",
      "Move disk from A to C\n",
      "Move disk from B to C\n",
      "Move disk from B to A\n",
      "Move disk from C to A\n",
      "Move disk from B to C\n",
      "Move disk from A to B\n",
      "Move disk from A to C\n",
      "Move disk from B to C\n"
     ]
    }
   ],
   "source": [
    "import pyttsx3       \n",
    "import textwrap\n",
    "speaker=pyttsx3.init()\n",
    "speaker.say(\"WELCOME. TO THE TOWER OF HANOI. Enter number of disks . \")\n",
    "speaker.runAndWait()\n",
    "\n",
    "def tower(n,start,end,goal):\n",
    "    if n>0:\n",
    "        tower(n-1,start,goal,end)\n",
    "        print(\"Move disk from \"+start+\" to \"+ end )\n",
    "        tower(n-1,goal,end,start)\n",
    "disks = int(input('Enter number of disks: '))\n",
    "if disks>1:\n",
    "    \n",
    "    print(\"===============|This is your final result|================\")\n",
    "    speaker=pyttsx3.init()\n",
    "    speaker.say(\"This is your final result\")\n",
    "    speaker.runAndWait()\n",
    "    tower(disks, 'A', 'C', 'B')\n",
    "else:\n",
    "    print(\"===============|Please Entre more than 1 disk|================\")\n",
    "    speaker=pyttsx3.init()\n",
    "    speaker.say(\"Please. Enter  more  than  1  disk\")\n",
    "    speaker.runAndWait() \n"
   ]
  },
  {
   "cell_type": "code",
   "execution_count": null,
   "metadata": {},
   "outputs": [],
   "source": []
  }
 ],
 "metadata": {
  "kernelspec": {
   "display_name": "Python 3",
   "language": "python",
   "name": "python3"
  },
  "language_info": {
   "codemirror_mode": {
    "name": "ipython",
    "version": 3
   },
   "file_extension": ".py",
   "mimetype": "text/x-python",
   "name": "python",
   "nbconvert_exporter": "python",
   "pygments_lexer": "ipython3",
   "version": "3.8.3"
  }
 },
 "nbformat": 4,
 "nbformat_minor": 4
}
